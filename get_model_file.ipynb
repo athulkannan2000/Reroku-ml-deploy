{
  "nbformat": 4,
  "nbformat_minor": 0,
  "metadata": {
    "colab": {
      "name": "IRIS & heroku",
      "provenance": [],
      "collapsed_sections": []
    },
    "kernelspec": {
      "name": "python3",
      "display_name": "Python 3"
    }
  },
  "cells": [
    {
      "cell_type": "code",
      "metadata": {
        "id": "aVGT7SDIMKdd"
      },
      "source": [
        "!pip install flask_ngrok\n",
        "!pip install flask"
      ],
      "execution_count": null,
      "outputs": []
    },
    {
      "cell_type": "code",
      "metadata": {
        "id": "zoBOzSA6Mdf7"
      },
      "source": [
        "import numpy as np\n",
        "import pandas as pd\n",
        "import matplotlib.pyplot as plt\n",
        "\n",
        "from sklearn import datasets\n",
        "from sklearn.model_selection import train_test_split, cross_val_score\n",
        "from sklearn.svm import SVC\n",
        "from sklearn.metrics import mean_squared_error, accuracy_score\n",
        "from sklearn.model_selection import GridSearchCV\n",
        "\n",
        "import pickle\n",
        "\n",
        "dataset = datasets.load_iris()"
      ],
      "execution_count": null,
      "outputs": []
    },
    {
      "cell_type": "markdown",
      "metadata": {
        "id": "VEBIBj7O-9Af"
      },
      "source": [
        "**Let's know our dataset**\n",
        "\n",
        "![alt text](https://www.w3resource.com/w3r_images/iris_flower_dataset.png)\n",
        "\n",
        "**How Dataset was collected?**\n",
        "\n",
        "![alt text](https://www.oreilly.com/library/view/python-artificial-intelligence/9781789539462/assets/462dc4fa-fd62-4539-8599-ac80a441382c.png)"
      ]
    },
    {
      "cell_type": "code",
      "metadata": {
        "id": "iHOfgrjV7coJ",
        "colab": {
          "base_uri": "https://localhost:8080/"
        },
        "outputId": "fe9e219b-d8fb-4130-f5a3-afb63df1a402"
      },
      "source": [
        "dataset.feature_names"
      ],
      "execution_count": null,
      "outputs": [
        {
          "output_type": "execute_result",
          "data": {
            "text/plain": [
              "['sepal length (cm)',\n",
              " 'sepal width (cm)',\n",
              " 'petal length (cm)',\n",
              " 'petal width (cm)']"
            ]
          },
          "metadata": {
            "tags": []
          },
          "execution_count": 3
        }
      ]
    },
    {
      "cell_type": "code",
      "metadata": {
        "id": "poJs2GCyMg9n"
      },
      "source": [
        "x = dataset.data\n",
        "y = dataset.target\n",
        "x_train, x_test, y_train, y_test = train_test_split(x, y, test_size=0.3, \n",
        "                                                    random_state=1)"
      ],
      "execution_count": null,
      "outputs": []
    },
    {
      "cell_type": "code",
      "metadata": {
        "id": "oRjlJTeYMiCI"
      },
      "source": [
        "model = SVC()\n",
        "options = {\n",
        "    \"kernel\": (\"linear\", \"poly\", \"rbf\"),\n",
        "    \"degree\": [3, 7, 10, 15, 50],\n",
        "    \"gamma\": (\"scale\", \"auto\"),\n",
        "    \"C\": [0.1, 1, 10, 100]\n",
        "}\n",
        "gs = GridSearchCV(model, options)\n",
        "gs.fit(x_train, y_train)\n",
        "y_pred = gs.predict(x_test)"
      ],
      "execution_count": null,
      "outputs": []
    },
    {
      "cell_type": "code",
      "metadata": {
        "id": "zIt56fD0Mk4w",
        "colab": {
          "base_uri": "https://localhost:8080/"
        },
        "outputId": "1746c8e0-5a6c-46d5-b4e8-9b84c9a711ae"
      },
      "source": [
        "mse = mean_squared_error(y_test, y_pred) \n",
        "print(\"Mean Square Error : \", mse)\n",
        "\n",
        "acc_score = accuracy_score(y_test, y_pred)\n",
        "print(\"Accuracy: \" + str(acc_score))"
      ],
      "execution_count": null,
      "outputs": [
        {
          "output_type": "stream",
          "text": [
            "Mean Square Error :  0.022222222222222223\n",
            "Accuracy: 0.9777777777777777\n"
          ],
          "name": "stdout"
        }
      ]
    },
    {
      "cell_type": "code",
      "metadata": {
        "id": "gp0VUJmiOx5v"
      },
      "source": [
        "pickle.dump(gs.best_estimator_, open('/content/model.pkl', 'wb'))"
      ],
      "execution_count": null,
      "outputs": []
    },
    {
      "cell_type": "markdown",
      "metadata": {
        "id": "k7PyGwXYQCTU"
      },
      "source": [
        "# New File"
      ]
    },
    {
      "cell_type": "code",
      "metadata": {
        "id": "G8r2wD55QAqA"
      },
      "source": [
        "from flask import Flask, jsonify, make_response, request\n",
        "from flask_ngrok import run_with_ngrok\n",
        "import pickle\n",
        "import numpy as np\n",
        "\n",
        "model = pickle.load(open(\"/content/model.pkl\", 'rb'))\n",
        "\n",
        "app = Flask(__name__)\n",
        "run_with_ngrok(app)"
      ],
      "execution_count": null,
      "outputs": []
    },
    {
      "cell_type": "code",
      "metadata": {
        "id": "PwKzXXdtb40i",
        "colab": {
          "base_uri": "https://localhost:8080/"
        },
        "outputId": "e1c155bc-672f-46fc-e205-c523b2ca0cb4"
      },
      "source": [
        "model.predict([[5.1, 3.5, 1.4, 0.2]])[0]"
      ],
      "execution_count": null,
      "outputs": [
        {
          "output_type": "execute_result",
          "data": {
            "text/plain": [
              "0"
            ]
          },
          "metadata": {
            "tags": []
          },
          "execution_count": 10
        }
      ]
    },
    {
      "cell_type": "code",
      "metadata": {
        "id": "DZncFLAkSUuD"
      },
      "source": [
        "@app.route('/', methods=['GET'])\n",
        "def index():\n",
        "  return (\"Server is up and running...\")\n",
        "\n",
        "'''\n",
        " {\n",
        "    \"sepalLength\": 5,\n",
        "    \"sepalWidth\":  6,\n",
        "    \"petalLength\": 6.8,\n",
        "    \"petalWidth\":  1\n",
        "  }\n",
        "'''\n",
        "\n",
        "@app.route('/predict', methods=['POST'])\n",
        "def predict():\n",
        "  data = request.get_json(force = True)\n",
        "  param1 = data[\"sepalLength\"]\n",
        "  param2 = data['sepalWidth']\n",
        "  param3 = data['petalLength']\n",
        "  param4 = data['petalWidth']\n",
        "  predict_on = np.array([[param1, param2, param3, param4]])\n",
        "  y_predict = model.predict(predict_on)\n",
        "  print(y_predict[0])\n",
        "  return jsonify(results = int(y_predict[0]))\n",
        "'''\n",
        "  {\n",
        "    \"results\" : [0]\n",
        "  }\n",
        "'''\n",
        "app.run()"
      ],
      "execution_count": null,
      "outputs": []
    },
    {
      "cell_type": "code",
      "metadata": {
        "colab": {
          "base_uri": "https://localhost:8080/",
          "height": 34
        },
        "id": "Uuw2d3ebSF90",
        "outputId": "e8bd8b06-c7e9-4fca-af34-ab445a0c934c"
      },
      "source": [
        "# For Deployment\n",
        "\n",
        "import sklearn\n",
        "sklearn.__version__"
      ],
      "execution_count": null,
      "outputs": [
        {
          "output_type": "execute_result",
          "data": {
            "application/vnd.google.colaboratory.intrinsic+json": {
              "type": "string"
            },
            "text/plain": [
              "'0.22.2.post1'"
            ]
          },
          "metadata": {
            "tags": []
          },
          "execution_count": 14
        }
      ]
    }
  ]
}